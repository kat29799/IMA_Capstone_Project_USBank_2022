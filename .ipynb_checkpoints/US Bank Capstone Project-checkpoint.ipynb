{
 "cells": [
  {
   "cell_type": "markdown",
   "id": "7806e96c",
   "metadata": {},
   "source": [
    " # <center> Identifying Turnover in Mortgage Prepayments <center>\n",
    "## <center> US Bank, IMA Math to Industry Boot Camp 2022 <center>\n",
    "### <center> Caroline Bang, Katheryn Beck, Zanbing Dai, Leo Digiosia, Arpan Pal <center>"
   ]
  },
  {
   "cell_type": "markdown",
   "id": "8383307f",
   "metadata": {},
   "source": [
    "U.S. agency 1 residential mortgage-backed securities (MBS) are the largest and most liquid securitized asset class in the world. Banks, insurance companies, and money managers invest in MBS because they provide an attractive yield relative to U.S. Treasury securities with comparable credit risk. However, unlike most fixed income securities, which have specified contractual coupon and principal payments, the timing and amount of MBS cash flows is uncertain. This is because MBS are pools of individual mortgages on which the borrower has the right to prepay the loan at any given time during the life of the loan. Prepayment risk, which impacts the yield and interest rate risk of an MBS comes from five sources:\n",
    "\n",
    " - Rate/term refinance which occur when borrowers lower interest payments or shorten the term of the current mortgage.\n",
    " - Cash-out refinance which involve extracting equity from a home.\n",
    " - Involuntary buyouts, which in the case of agency MBS result in an early return of principal. However, the timing is contingent on the GSEs or GNMA loan servicers.\n",
    " - Curtailments, which are partial prepayment or full payoff before maturity.\n",
    " - Turnover, which is caused by geographic migration and home upgrades. Turnover creates a baseline level of prepayments that are highly seasonal.\n",
    "\n",
    "The COVID-19 crisis and response by the Federal Reserve resulted in a low-rate environment that elevated both levels of refinance and buyout activity. Since the initiation of quantitative tightening, sustained inflation, and rising interest rates, refinance activity has slowed considerably. At present, a major question affecting the risk profile of MBS is to what extent prepayment activity will decrease. With diminishing refinance incentives, the major sources of prepayment are now turnover, curtailment, and buyouts. As a baseline level of prepayment activity, understanding turnover is important to evaluating the risks of mortgage-backed securities. The goal of this project is to use loan-level mortgage data and macroeconomic data to quantify turnover prepayment speed."
   ]
  },
  {
   "cell_type": "code",
   "execution_count": null,
   "id": "7ba8cf9f",
   "metadata": {},
   "outputs": [],
   "source": []
  }
 ],
 "metadata": {
  "kernelspec": {
   "display_name": "Python 3 (ipykernel)",
   "language": "python",
   "name": "python3"
  },
  "language_info": {
   "codemirror_mode": {
    "name": "ipython",
    "version": 3
   },
   "file_extension": ".py",
   "mimetype": "text/x-python",
   "name": "python",
   "nbconvert_exporter": "python",
   "pygments_lexer": "ipython3",
   "version": "3.9.12"
  }
 },
 "nbformat": 4,
 "nbformat_minor": 5
}
