{
 "cells": [
  {
   "cell_type": "code",
   "execution_count": 1,
   "id": "a0ef78b8",
   "metadata": {},
   "outputs": [],
   "source": [
    "import numpy as np\n",
    "import pandas as pd\n",
    "import matplotlib.pyplot as plt\n",
    "import seaborn as sns"
   ]
  },
  {
   "cell_type": "code",
   "execution_count": 2,
   "id": "02c4249a",
   "metadata": {},
   "outputs": [],
   "source": [
    "# Loading the datasets\n",
    "#HPI = pd.read_csv(\"USSTHPI.csv\") # Quarterly HPI data\n",
    "HPI_PO = pd.read_csv(\"HPI_Purchase_only_yoy_change.csv\") # HPI Purchase Only data\n",
    "EHS = pd.read_excel(\"Existing Home Sales.xlsx\") # Existing Home Sales data, Chris supplied\n",
    "StockQt = pd.read_excel(\"HousingStockWorksheet.xlsx\", sheet_name = \"Stock_Quarterly\") # Housing Stock data, Chris supplied"
   ]
  },
  {
   "cell_type": "code",
   "execution_count": 3,
   "id": "8a646931",
   "metadata": {},
   "outputs": [],
   "source": [
    "# Just chaging the column name and cleaning the data\n",
    "HPI_PO.DATE = pd.to_datetime(HPI_PO.DATE)\n",
    "new_name = {'HPIPONM226S_PC1' : \"YoY\"}\n",
    "HPI_PO.rename(columns=new_name, inplace= True)\n",
    "HPI_PO.drop(HPI_PO.tail(1).index, inplace= True)\n",
    "HPI_PO.YoY = HPI_PO.YoY.astype(float)"
   ]
  },
  {
   "cell_type": "code",
   "execution_count": 4,
   "id": "8b4d199a",
   "metadata": {},
   "outputs": [],
   "source": [
    "StockQt.rename(columns={\"Unnamed: 15\" : \"col 15\", \"Unnamed: 16\" : \"Eff_HS_US\"}, inplace=True)\n",
    "StockQt.drop(columns=[\"col 15\"], inplace= True)\n",
    "StockQt.dropna(subset=[\"Eff_HS_US\"],inplace = True)\n",
    "Quarters = StockQt.Quarter.values\n",
    "Quarter_to_Date = {\"Q1\" : \"-01-01\",\n",
    "                  \"Q2\" : \"-04-01\",\n",
    "                  \"Q3\" : \"-07-01\",\n",
    "                  \"Q4\" : \"-10-01\"}\n",
    "Dates = []\n",
    "for i in Quarters:\n",
    "    y = i.split()[0]\n",
    "    y+= Quarter_to_Date[i.split()[1]]\n",
    "    Dates.append(y)\n",
    "StockQt.Quarter = Dates"
   ]
  },
  {
   "cell_type": "code",
   "execution_count": 5,
   "id": "6df6fb8c",
   "metadata": {},
   "outputs": [],
   "source": [
    "EHS.EOM = pd.to_datetime(EHS.EOM)\n",
    "EHS.rename(columns= {\"EOM\" : \"DATE\"}, inplace = True)\n",
    "EHS.dropna(subset=[\"Existing Home Sales\"], inplace=True)"
   ]
  },
  {
   "cell_type": "code",
   "execution_count": 6,
   "id": "0bb77891",
   "metadata": {},
   "outputs": [],
   "source": [
    "EHS[\"DATE\"] = EHS.DATE.dt.to_period('Q')\n",
    "EHS_Q = pd.DataFrame(EHS.groupby(\"DATE\").mean())\n",
    "EHS_Q.reset_index(inplace= True)\n",
    "EHS_Q.drop(EHS_Q.tail(1).index,inplace=True)"
   ]
  },
  {
   "cell_type": "code",
   "execution_count": 7,
   "id": "884d2cc4",
   "metadata": {},
   "outputs": [],
   "source": [
    "EHS_Q[\"House_Stock\"] = StockQt.Eff_HS_US.values"
   ]
  },
  {
   "cell_type": "code",
   "execution_count": 8,
   "id": "d2bd2fa0",
   "metadata": {},
   "outputs": [],
   "source": [
    "EHS_Q[\"Implied_Turnover\"] = (EHS_Q[\"Existing Home Sales\"]/(EHS_Q.House_Stock/1000))*100"
   ]
  },
  {
   "cell_type": "code",
   "execution_count": 9,
   "id": "e806e83d",
   "metadata": {},
   "outputs": [],
   "source": [
    "Turnover = list(EHS_Q.Implied_Turnover.values)\n",
    "Turnover = [np.nan]*(HPI_PO.shape[0]-len(Turnover))+Turnover\n",
    "HPI_PO[\"Implied_Turnover\"] = Turnover"
   ]
  },
  {
   "cell_type": "code",
   "execution_count": 10,
   "id": "b3883f31",
   "metadata": {},
   "outputs": [
    {
     "data": {
      "text/html": [
       "<div>\n",
       "<style scoped>\n",
       "    .dataframe tbody tr th:only-of-type {\n",
       "        vertical-align: middle;\n",
       "    }\n",
       "\n",
       "    .dataframe tbody tr th {\n",
       "        vertical-align: top;\n",
       "    }\n",
       "\n",
       "    .dataframe thead th {\n",
       "        text-align: right;\n",
       "    }\n",
       "</style>\n",
       "<table border=\"1\" class=\"dataframe\">\n",
       "  <thead>\n",
       "    <tr style=\"text-align: right;\">\n",
       "      <th></th>\n",
       "      <th>DATE</th>\n",
       "      <th>YoY</th>\n",
       "      <th>Implied_Turnover</th>\n",
       "    </tr>\n",
       "  </thead>\n",
       "  <tbody>\n",
       "    <tr>\n",
       "      <th>0</th>\n",
       "      <td>1992-01-01</td>\n",
       "      <td>2.35603</td>\n",
       "      <td>NaN</td>\n",
       "    </tr>\n",
       "    <tr>\n",
       "      <th>1</th>\n",
       "      <td>1992-04-01</td>\n",
       "      <td>2.14440</td>\n",
       "      <td>NaN</td>\n",
       "    </tr>\n",
       "    <tr>\n",
       "      <th>2</th>\n",
       "      <td>1992-07-01</td>\n",
       "      <td>2.77548</td>\n",
       "      <td>NaN</td>\n",
       "    </tr>\n",
       "    <tr>\n",
       "      <th>3</th>\n",
       "      <td>1992-10-01</td>\n",
       "      <td>2.74108</td>\n",
       "      <td>NaN</td>\n",
       "    </tr>\n",
       "    <tr>\n",
       "      <th>4</th>\n",
       "      <td>1993-01-01</td>\n",
       "      <td>1.53561</td>\n",
       "      <td>NaN</td>\n",
       "    </tr>\n",
       "    <tr>\n",
       "      <th>...</th>\n",
       "      <td>...</td>\n",
       "      <td>...</td>\n",
       "      <td>...</td>\n",
       "    </tr>\n",
       "    <tr>\n",
       "      <th>116</th>\n",
       "      <td>2021-01-01</td>\n",
       "      <td>13.08681</td>\n",
       "      <td>6.684530</td>\n",
       "    </tr>\n",
       "    <tr>\n",
       "      <th>117</th>\n",
       "      <td>2021-04-01</td>\n",
       "      <td>17.81826</td>\n",
       "      <td>6.321918</td>\n",
       "    </tr>\n",
       "    <tr>\n",
       "      <th>118</th>\n",
       "      <td>2021-07-01</td>\n",
       "      <td>18.60512</td>\n",
       "      <td>6.440745</td>\n",
       "    </tr>\n",
       "    <tr>\n",
       "      <th>119</th>\n",
       "      <td>2021-10-01</td>\n",
       "      <td>17.70045</td>\n",
       "      <td>6.539117</td>\n",
       "    </tr>\n",
       "    <tr>\n",
       "      <th>120</th>\n",
       "      <td>2022-01-01</td>\n",
       "      <td>18.91433</td>\n",
       "      <td>6.382089</td>\n",
       "    </tr>\n",
       "  </tbody>\n",
       "</table>\n",
       "<p>121 rows × 3 columns</p>\n",
       "</div>"
      ],
      "text/plain": [
       "          DATE       YoY  Implied_Turnover\n",
       "0   1992-01-01   2.35603               NaN\n",
       "1   1992-04-01   2.14440               NaN\n",
       "2   1992-07-01   2.77548               NaN\n",
       "3   1992-10-01   2.74108               NaN\n",
       "4   1993-01-01   1.53561               NaN\n",
       "..         ...       ...               ...\n",
       "116 2021-01-01  13.08681          6.684530\n",
       "117 2021-04-01  17.81826          6.321918\n",
       "118 2021-07-01  18.60512          6.440745\n",
       "119 2021-10-01  17.70045          6.539117\n",
       "120 2022-01-01  18.91433          6.382089\n",
       "\n",
       "[121 rows x 3 columns]"
      ]
     },
     "execution_count": 10,
     "metadata": {},
     "output_type": "execute_result"
    }
   ],
   "source": [
    "HPI_PO"
   ]
  },
  {
   "cell_type": "code",
   "execution_count": 11,
   "id": "d89dc62a",
   "metadata": {},
   "outputs": [],
   "source": [
    "HPI_PO[\"YoY_MA_5\"] = HPI_PO.YoY.rolling(5).mean()"
   ]
  },
  {
   "cell_type": "code",
   "execution_count": 12,
   "id": "e23997d8",
   "metadata": {},
   "outputs": [
    {
     "data": {
      "text/html": [
       "<div>\n",
       "<style scoped>\n",
       "    .dataframe tbody tr th:only-of-type {\n",
       "        vertical-align: middle;\n",
       "    }\n",
       "\n",
       "    .dataframe tbody tr th {\n",
       "        vertical-align: top;\n",
       "    }\n",
       "\n",
       "    .dataframe thead th {\n",
       "        text-align: right;\n",
       "    }\n",
       "</style>\n",
       "<table border=\"1\" class=\"dataframe\">\n",
       "  <thead>\n",
       "    <tr style=\"text-align: right;\">\n",
       "      <th></th>\n",
       "      <th>DATE</th>\n",
       "      <th>YoY</th>\n",
       "      <th>Implied_Turnover</th>\n",
       "      <th>YoY_MA_5</th>\n",
       "    </tr>\n",
       "  </thead>\n",
       "  <tbody>\n",
       "    <tr>\n",
       "      <th>0</th>\n",
       "      <td>1992-01-01</td>\n",
       "      <td>2.35603</td>\n",
       "      <td>NaN</td>\n",
       "      <td>NaN</td>\n",
       "    </tr>\n",
       "    <tr>\n",
       "      <th>1</th>\n",
       "      <td>1992-04-01</td>\n",
       "      <td>2.14440</td>\n",
       "      <td>NaN</td>\n",
       "      <td>NaN</td>\n",
       "    </tr>\n",
       "    <tr>\n",
       "      <th>2</th>\n",
       "      <td>1992-07-01</td>\n",
       "      <td>2.77548</td>\n",
       "      <td>NaN</td>\n",
       "      <td>NaN</td>\n",
       "    </tr>\n",
       "    <tr>\n",
       "      <th>3</th>\n",
       "      <td>1992-10-01</td>\n",
       "      <td>2.74108</td>\n",
       "      <td>NaN</td>\n",
       "      <td>NaN</td>\n",
       "    </tr>\n",
       "    <tr>\n",
       "      <th>4</th>\n",
       "      <td>1993-01-01</td>\n",
       "      <td>1.53561</td>\n",
       "      <td>NaN</td>\n",
       "      <td>2.310520</td>\n",
       "    </tr>\n",
       "    <tr>\n",
       "      <th>...</th>\n",
       "      <td>...</td>\n",
       "      <td>...</td>\n",
       "      <td>...</td>\n",
       "      <td>...</td>\n",
       "    </tr>\n",
       "    <tr>\n",
       "      <th>116</th>\n",
       "      <td>2021-01-01</td>\n",
       "      <td>13.08681</td>\n",
       "      <td>6.684530</td>\n",
       "      <td>8.903530</td>\n",
       "    </tr>\n",
       "    <tr>\n",
       "      <th>117</th>\n",
       "      <td>2021-04-01</td>\n",
       "      <td>17.81826</td>\n",
       "      <td>6.321918</td>\n",
       "      <td>11.219404</td>\n",
       "    </tr>\n",
       "    <tr>\n",
       "      <th>118</th>\n",
       "      <td>2021-07-01</td>\n",
       "      <td>18.60512</td>\n",
       "      <td>6.440745</td>\n",
       "      <td>13.788192</td>\n",
       "    </tr>\n",
       "    <tr>\n",
       "      <th>119</th>\n",
       "      <td>2021-10-01</td>\n",
       "      <td>17.70045</td>\n",
       "      <td>6.539117</td>\n",
       "      <td>15.676364</td>\n",
       "    </tr>\n",
       "    <tr>\n",
       "      <th>120</th>\n",
       "      <td>2022-01-01</td>\n",
       "      <td>18.91433</td>\n",
       "      <td>6.382089</td>\n",
       "      <td>17.224994</td>\n",
       "    </tr>\n",
       "  </tbody>\n",
       "</table>\n",
       "<p>121 rows × 4 columns</p>\n",
       "</div>"
      ],
      "text/plain": [
       "          DATE       YoY  Implied_Turnover   YoY_MA_5\n",
       "0   1992-01-01   2.35603               NaN        NaN\n",
       "1   1992-04-01   2.14440               NaN        NaN\n",
       "2   1992-07-01   2.77548               NaN        NaN\n",
       "3   1992-10-01   2.74108               NaN        NaN\n",
       "4   1993-01-01   1.53561               NaN   2.310520\n",
       "..         ...       ...               ...        ...\n",
       "116 2021-01-01  13.08681          6.684530   8.903530\n",
       "117 2021-04-01  17.81826          6.321918  11.219404\n",
       "118 2021-07-01  18.60512          6.440745  13.788192\n",
       "119 2021-10-01  17.70045          6.539117  15.676364\n",
       "120 2022-01-01  18.91433          6.382089  17.224994\n",
       "\n",
       "[121 rows x 4 columns]"
      ]
     },
     "execution_count": 12,
     "metadata": {},
     "output_type": "execute_result"
    }
   ],
   "source": [
    "HPI_PO"
   ]
  },
  {
   "cell_type": "code",
   "execution_count": 13,
   "id": "848f612f",
   "metadata": {},
   "outputs": [
    {
     "data": {
      "image/png": "[encoded data removed]",
      "text/plain": [
       "<Figure size 1080x720 with 1 Axes>"
      ]
     },
     "metadata": {
      "needs_background": "light"
     },
     "output_type": "display_data"
    }
   ],
   "source": [
    "plt.figure(figsize=(15,10))\n",
    "#plt.plot(HPI_PO.DATE, HPI_PO.YoY.values, label = \"Yearly change in HPI (%)\")\n",
    "plt.plot(HPI_PO.DATE, HPI_PO.Implied_Turnover.values, label = \"Implied turnover\")\n",
    "plt.plot(HPI_PO.DATE, HPI_PO.YoY_MA_5, label = \"Moving average of yearly change in HPI (%)\")\n",
    "plt.legend(fontsize = 15)\n",
    "plt.grid()\n",
    "plt.title(\"Yearly Change in HPI and Implied Turnover\", size = 20);"
   ]
  },
  {
   "cell_type": "code",
   "execution_count": 14,
   "id": "06ad327a",
   "metadata": {},
   "outputs": [],
   "source": [
    "HPI_df = HPI_PO.dropna().reset_index(drop=True)"
   ]
  },
  {
   "cell_type": "code",
   "execution_count": 15,
   "id": "23ac8ee8",
   "metadata": {},
   "outputs": [
    {
     "data": {
      "text/html": [
       "<div>\n",
       "<style scoped>\n",
       "    .dataframe tbody tr th:only-of-type {\n",
       "        vertical-align: middle;\n",
       "    }\n",
       "\n",
       "    .dataframe tbody tr th {\n",
       "        vertical-align: top;\n",
       "    }\n",
       "\n",
       "    .dataframe thead th {\n",
       "        text-align: right;\n",
       "    }\n",
       "</style>\n",
       "<table border=\"1\" class=\"dataframe\">\n",
       "  <thead>\n",
       "    <tr style=\"text-align: right;\">\n",
       "      <th></th>\n",
       "      <th>DATE</th>\n",
       "      <th>YoY</th>\n",
       "      <th>Implied_Turnover</th>\n",
       "      <th>YoY_MA_5</th>\n",
       "    </tr>\n",
       "  </thead>\n",
       "  <tbody>\n",
       "    <tr>\n",
       "      <th>0</th>\n",
       "      <td>1999-01-01</td>\n",
       "      <td>5.93694</td>\n",
       "      <td>6.477936</td>\n",
       "      <td>5.049380</td>\n",
       "    </tr>\n",
       "    <tr>\n",
       "      <th>1</th>\n",
       "      <td>1999-04-01</td>\n",
       "      <td>6.02527</td>\n",
       "      <td>6.529750</td>\n",
       "      <td>5.471682</td>\n",
       "    </tr>\n",
       "    <tr>\n",
       "      <th>2</th>\n",
       "      <td>1999-07-01</td>\n",
       "      <td>6.29097</td>\n",
       "      <td>6.447134</td>\n",
       "      <td>5.824094</td>\n",
       "    </tr>\n",
       "    <tr>\n",
       "      <th>3</th>\n",
       "      <td>1999-10-01</td>\n",
       "      <td>6.14804</td>\n",
       "      <td>6.359195</td>\n",
       "      <td>6.021422</td>\n",
       "    </tr>\n",
       "    <tr>\n",
       "      <th>4</th>\n",
       "      <td>2000-01-01</td>\n",
       "      <td>6.46462</td>\n",
       "      <td>6.412796</td>\n",
       "      <td>6.173168</td>\n",
       "    </tr>\n",
       "    <tr>\n",
       "      <th>...</th>\n",
       "      <td>...</td>\n",
       "      <td>...</td>\n",
       "      <td>...</td>\n",
       "      <td>...</td>\n",
       "    </tr>\n",
       "    <tr>\n",
       "      <th>88</th>\n",
       "      <td>2021-01-01</td>\n",
       "      <td>13.08681</td>\n",
       "      <td>6.684530</td>\n",
       "      <td>8.903530</td>\n",
       "    </tr>\n",
       "    <tr>\n",
       "      <th>89</th>\n",
       "      <td>2021-04-01</td>\n",
       "      <td>17.81826</td>\n",
       "      <td>6.321918</td>\n",
       "      <td>11.219404</td>\n",
       "    </tr>\n",
       "    <tr>\n",
       "      <th>90</th>\n",
       "      <td>2021-07-01</td>\n",
       "      <td>18.60512</td>\n",
       "      <td>6.440745</td>\n",
       "      <td>13.788192</td>\n",
       "    </tr>\n",
       "    <tr>\n",
       "      <th>91</th>\n",
       "      <td>2021-10-01</td>\n",
       "      <td>17.70045</td>\n",
       "      <td>6.539117</td>\n",
       "      <td>15.676364</td>\n",
       "    </tr>\n",
       "    <tr>\n",
       "      <th>92</th>\n",
       "      <td>2022-01-01</td>\n",
       "      <td>18.91433</td>\n",
       "      <td>6.382089</td>\n",
       "      <td>17.224994</td>\n",
       "    </tr>\n",
       "  </tbody>\n",
       "</table>\n",
       "<p>93 rows × 4 columns</p>\n",
       "</div>"
      ],
      "text/plain": [
       "         DATE       YoY  Implied_Turnover   YoY_MA_5\n",
       "0  1999-01-01   5.93694          6.477936   5.049380\n",
       "1  1999-04-01   6.02527          6.529750   5.471682\n",
       "2  1999-07-01   6.29097          6.447134   5.824094\n",
       "3  1999-10-01   6.14804          6.359195   6.021422\n",
       "4  2000-01-01   6.46462          6.412796   6.173168\n",
       "..        ...       ...               ...        ...\n",
       "88 2021-01-01  13.08681          6.684530   8.903530\n",
       "89 2021-04-01  17.81826          6.321918  11.219404\n",
       "90 2021-07-01  18.60512          6.440745  13.788192\n",
       "91 2021-10-01  17.70045          6.539117  15.676364\n",
       "92 2022-01-01  18.91433          6.382089  17.224994\n",
       "\n",
       "[93 rows x 4 columns]"
      ]
     },
     "execution_count": 15,
     "metadata": {},
     "output_type": "execute_result"
    }
   ],
   "source": [
    "HPI_df"
   ]
  },
  {
   "cell_type": "code",
   "execution_count": 16,
   "id": "9bf6ddb7",
   "metadata": {},
   "outputs": [],
   "source": [
    "size=int(HPI_df.shape[0]*0.8)"
   ]
  },
  {
   "cell_type": "code",
   "execution_count": 17,
   "id": "888d2aa6",
   "metadata": {},
   "outputs": [],
   "source": [
    "train, test = HPI_df.iloc[:size,:], HPI_df.iloc[size:,:]"
   ]
  },
  {
   "cell_type": "code",
   "execution_count": 18,
   "id": "a6eb4969",
   "metadata": {},
   "outputs": [],
   "source": [
    "X_train, y_train = train['YoY_MA_5'], train['Implied_Turnover']\n",
    "X_test, y_test = test['YoY_MA_5'], test['Implied_Turnover']"
   ]
  },
  {
   "cell_type": "code",
   "execution_count": 19,
   "id": "d4f1025d",
   "metadata": {},
   "outputs": [],
   "source": [
    "X_train=np.array(X_train).reshape(-1, 1)\n",
    "X_test= np.array(X_test).reshape(-1, 1)"
   ]
  },
  {
   "cell_type": "code",
   "execution_count": 20,
   "id": "f253e870",
   "metadata": {},
   "outputs": [],
   "source": [
    "from sklearn.linear_model import LinearRegression\n",
    "\n",
    "# Fit and predict\n",
    "model = LinearRegression()  \n",
    "model.fit(X_train, y_train)\n",
    "y_pred = model.predict(X_train)\n",
    "y_fore = model.predict(X_test)"
   ]
  },
  {
   "cell_type": "code",
   "execution_count": 21,
   "id": "10d4b910",
   "metadata": {},
   "outputs": [
    {
     "data": {
      "image/png": "[encoded data removed]",
      "text/plain": [
       "<Figure size 720x504 with 1 Axes>"
      ]
     },
     "metadata": {
      "needs_background": "light"
     },
     "output_type": "display_data"
    }
   ],
   "source": [
    "plt.figure(figsize=(10,7))\n",
    "plt.plot(HPI_df.DATE, HPI_df.Implied_Turnover.values, label = \"Implied turnover\")\n",
    "plt.plot(train.DATE, y_pred, label = \"Fitted implied turnover\")\n",
    "plt.plot(test.DATE, y_fore, label = \"Predicted implied turnover\")\n",
    "plt.legend(fontsize = 15)\n",
    "plt.title(\"Moving average of yearly change in HPI (%) v.s. Implied Turnover\", size = 20);"
   ]
  },
  {
   "cell_type": "markdown",
   "id": "9e91349a",
   "metadata": {},
   "source": [
    "Now let us see some statistics results. "
   ]
  },
  {
   "cell_type": "code",
   "execution_count": 22,
   "id": "f65885d1",
   "metadata": {},
   "outputs": [],
   "source": [
    "from sklearn.metrics import mean_absolute_error, mean_squared_error"
   ]
  },
  {
   "cell_type": "code",
   "execution_count": 23,
   "id": "d84574c0",
   "metadata": {},
   "outputs": [],
   "source": [
    "mae = mean_absolute_error(y_test, y_fore)\n",
    "mse = mean_squared_error(y_test, y_fore)\n",
    "rmse = np.sqrt(mse)"
   ]
  },
  {
   "cell_type": "code",
   "execution_count": 24,
   "id": "2bbc5a7c",
   "metadata": {},
   "outputs": [
    {
     "name": "stdout",
     "output_type": "stream",
     "text": [
      "Mean absolute error: 0.89217\n",
      "Mean squared error: 1.12733\n",
      "Root mean squared error: 1.06176\n"
     ]
    }
   ],
   "source": [
    "print(f'Mean absolute error: {mae:.5f}')\n",
    "print(f'Mean squared error: {mse:.5f}')\n",
    "print(f'Root mean squared error: {rmse:.5f}')"
   ]
  },
  {
   "cell_type": "markdown",
   "id": "cc677c57",
   "metadata": {},
   "source": [
    "Now I am going to include housing credit availability index"
   ]
  },
  {
   "cell_type": "code",
   "execution_count": 25,
   "id": "3dfb1a5c",
   "metadata": {},
   "outputs": [],
   "source": [
    "HCAI = pd.read_csv(\"HCAI_WM.csv\")"
   ]
  },
  {
   "cell_type": "code",
   "execution_count": 26,
   "id": "b46176f5",
   "metadata": {},
   "outputs": [],
   "source": [
    "HCAI.dropna(inplace=True)"
   ]
  },
  {
   "cell_type": "code",
   "execution_count": 27,
   "id": "33397f7e",
   "metadata": {},
   "outputs": [
    {
     "data": {
      "text/plain": [
       "Index(['Year', 'Quarter', 'Total\\nRisk', 'Borrower\\nRisk', 'Product\\nRisk'], dtype='object')"
      ]
     },
     "execution_count": 27,
     "metadata": {},
     "output_type": "execute_result"
    }
   ],
   "source": [
    "HCAI.columns"
   ]
  },
  {
   "cell_type": "code",
   "execution_count": 28,
   "id": "d9bd17dc",
   "metadata": {},
   "outputs": [],
   "source": [
    "HCAI.rename(columns = {'Total\\nRisk':'Total_Risk', 'Borrower\\nRisk':'Borrower_Risk', 'Product\\nRisk':'Product_Risk'}, inplace = True)"
   ]
  },
  {
   "cell_type": "code",
   "execution_count": 29,
   "id": "087c3bb4",
   "metadata": {},
   "outputs": [],
   "source": [
    "HCAI = HCAI[4:].reset_index(drop=True)"
   ]
  },
  {
   "cell_type": "code",
   "execution_count": 30,
   "id": "7aae0806",
   "metadata": {},
   "outputs": [
    {
     "data": {
      "text/html": [
       "<div>\n",
       "<style scoped>\n",
       "    .dataframe tbody tr th:only-of-type {\n",
       "        vertical-align: middle;\n",
       "    }\n",
       "\n",
       "    .dataframe tbody tr th {\n",
       "        vertical-align: top;\n",
       "    }\n",
       "\n",
       "    .dataframe thead th {\n",
       "        text-align: right;\n",
       "    }\n",
       "</style>\n",
       "<table border=\"1\" class=\"dataframe\">\n",
       "  <thead>\n",
       "    <tr style=\"text-align: right;\">\n",
       "      <th></th>\n",
       "      <th>Year</th>\n",
       "      <th>Quarter</th>\n",
       "      <th>Total_Risk</th>\n",
       "      <th>Borrower_Risk</th>\n",
       "      <th>Product_Risk</th>\n",
       "    </tr>\n",
       "  </thead>\n",
       "  <tbody>\n",
       "    <tr>\n",
       "      <th>0</th>\n",
       "      <td>1999</td>\n",
       "      <td>1</td>\n",
       "      <td>11.236</td>\n",
       "      <td>8.836</td>\n",
       "      <td>2.400</td>\n",
       "    </tr>\n",
       "    <tr>\n",
       "      <th>1</th>\n",
       "      <td>1999</td>\n",
       "      <td>2</td>\n",
       "      <td>11.790</td>\n",
       "      <td>9.040</td>\n",
       "      <td>2.750</td>\n",
       "    </tr>\n",
       "    <tr>\n",
       "      <th>2</th>\n",
       "      <td>1999</td>\n",
       "      <td>3</td>\n",
       "      <td>13.209</td>\n",
       "      <td>9.471</td>\n",
       "      <td>3.737</td>\n",
       "    </tr>\n",
       "    <tr>\n",
       "      <th>3</th>\n",
       "      <td>1999</td>\n",
       "      <td>4</td>\n",
       "      <td>14.332</td>\n",
       "      <td>10.160</td>\n",
       "      <td>4.172</td>\n",
       "    </tr>\n",
       "    <tr>\n",
       "      <th>4</th>\n",
       "      <td>2000</td>\n",
       "      <td>1</td>\n",
       "      <td>14.764</td>\n",
       "      <td>10.372</td>\n",
       "      <td>4.393</td>\n",
       "    </tr>\n",
       "    <tr>\n",
       "      <th>...</th>\n",
       "      <td>...</td>\n",
       "      <td>...</td>\n",
       "      <td>...</td>\n",
       "      <td>...</td>\n",
       "      <td>...</td>\n",
       "    </tr>\n",
       "    <tr>\n",
       "      <th>86</th>\n",
       "      <td>2020</td>\n",
       "      <td>3</td>\n",
       "      <td>4.989</td>\n",
       "      <td>4.986</td>\n",
       "      <td>0.003</td>\n",
       "    </tr>\n",
       "    <tr>\n",
       "      <th>87</th>\n",
       "      <td>2020</td>\n",
       "      <td>4</td>\n",
       "      <td>5.082</td>\n",
       "      <td>5.078</td>\n",
       "      <td>0.003</td>\n",
       "    </tr>\n",
       "    <tr>\n",
       "      <th>88</th>\n",
       "      <td>2021</td>\n",
       "      <td>1</td>\n",
       "      <td>5.125</td>\n",
       "      <td>5.121</td>\n",
       "      <td>0.004</td>\n",
       "    </tr>\n",
       "    <tr>\n",
       "      <th>89</th>\n",
       "      <td>2021</td>\n",
       "      <td>2</td>\n",
       "      <td>5.145</td>\n",
       "      <td>5.138</td>\n",
       "      <td>0.007</td>\n",
       "    </tr>\n",
       "    <tr>\n",
       "      <th>90</th>\n",
       "      <td>2021</td>\n",
       "      <td>3</td>\n",
       "      <td>5.169</td>\n",
       "      <td>5.164</td>\n",
       "      <td>0.005</td>\n",
       "    </tr>\n",
       "  </tbody>\n",
       "</table>\n",
       "<p>91 rows × 5 columns</p>\n",
       "</div>"
      ],
      "text/plain": [
       "    Year  Quarter Total_Risk Borrower_Risk Product_Risk\n",
       "0   1999        1     11.236         8.836        2.400\n",
       "1   1999        2     11.790         9.040        2.750\n",
       "2   1999        3     13.209         9.471        3.737\n",
       "3   1999        4     14.332        10.160        4.172\n",
       "4   2000        1     14.764        10.372        4.393\n",
       "..   ...      ...        ...           ...          ...\n",
       "86  2020        3      4.989         4.986        0.003\n",
       "87  2020        4      5.082         5.078        0.003\n",
       "88  2021        1      5.125         5.121        0.004\n",
       "89  2021        2      5.145         5.138        0.007\n",
       "90  2021        3      5.169         5.164        0.005\n",
       "\n",
       "[91 rows x 5 columns]"
      ]
     },
     "execution_count": 30,
     "metadata": {},
     "output_type": "execute_result"
    }
   ],
   "source": [
    "HCAI"
   ]
  },
  {
   "cell_type": "code",
   "execution_count": 31,
   "id": "13731254",
   "metadata": {},
   "outputs": [],
   "source": [
    "HCAI_index = HCAI.index.to_list()\n",
    "HCAI_Y = HCAI.Year.values\n",
    "HCAI_Q = HCAI.Quarter.values\n",
    "Quarter_to_Date = {1 : \"-01-01\", 2 : \"-04-01\",  3 : \"-07-01\", 4 : \"-10-01\"}\n",
    "Dates = []\n",
    "for i in HCAI_index:\n",
    "    date = str(HCAI_Y[i])+Quarter_to_Date[HCAI_Q[i]]\n",
    "    Dates.append(date)\n",
    "HCAI['DATE'] = pd.to_datetime(Dates)"
   ]
  },
  {
   "cell_type": "code",
   "execution_count": 32,
   "id": "a506741c",
   "metadata": {},
   "outputs": [],
   "source": [
    "HCAI.drop(['Year', 'Quarter'], axis=1, inplace=True)"
   ]
  },
  {
   "cell_type": "code",
   "execution_count": 33,
   "id": "1c71a20c",
   "metadata": {},
   "outputs": [
    {
     "data": {
      "text/html": [
       "<div>\n",
       "<style scoped>\n",
       "    .dataframe tbody tr th:only-of-type {\n",
       "        vertical-align: middle;\n",
       "    }\n",
       "\n",
       "    .dataframe tbody tr th {\n",
       "        vertical-align: top;\n",
       "    }\n",
       "\n",
       "    .dataframe thead th {\n",
       "        text-align: right;\n",
       "    }\n",
       "</style>\n",
       "<table border=\"1\" class=\"dataframe\">\n",
       "  <thead>\n",
       "    <tr style=\"text-align: right;\">\n",
       "      <th></th>\n",
       "      <th>Total_Risk</th>\n",
       "      <th>Borrower_Risk</th>\n",
       "      <th>Product_Risk</th>\n",
       "      <th>DATE</th>\n",
       "    </tr>\n",
       "  </thead>\n",
       "  <tbody>\n",
       "    <tr>\n",
       "      <th>0</th>\n",
       "      <td>11.236</td>\n",
       "      <td>8.836</td>\n",
       "      <td>2.400</td>\n",
       "      <td>1999-01-01</td>\n",
       "    </tr>\n",
       "    <tr>\n",
       "      <th>1</th>\n",
       "      <td>11.790</td>\n",
       "      <td>9.040</td>\n",
       "      <td>2.750</td>\n",
       "      <td>1999-04-01</td>\n",
       "    </tr>\n",
       "    <tr>\n",
       "      <th>2</th>\n",
       "      <td>13.209</td>\n",
       "      <td>9.471</td>\n",
       "      <td>3.737</td>\n",
       "      <td>1999-07-01</td>\n",
       "    </tr>\n",
       "    <tr>\n",
       "      <th>3</th>\n",
       "      <td>14.332</td>\n",
       "      <td>10.160</td>\n",
       "      <td>4.172</td>\n",
       "      <td>1999-10-01</td>\n",
       "    </tr>\n",
       "    <tr>\n",
       "      <th>4</th>\n",
       "      <td>14.764</td>\n",
       "      <td>10.372</td>\n",
       "      <td>4.393</td>\n",
       "      <td>2000-01-01</td>\n",
       "    </tr>\n",
       "    <tr>\n",
       "      <th>...</th>\n",
       "      <td>...</td>\n",
       "      <td>...</td>\n",
       "      <td>...</td>\n",
       "      <td>...</td>\n",
       "    </tr>\n",
       "    <tr>\n",
       "      <th>86</th>\n",
       "      <td>4.989</td>\n",
       "      <td>4.986</td>\n",
       "      <td>0.003</td>\n",
       "      <td>2020-07-01</td>\n",
       "    </tr>\n",
       "    <tr>\n",
       "      <th>87</th>\n",
       "      <td>5.082</td>\n",
       "      <td>5.078</td>\n",
       "      <td>0.003</td>\n",
       "      <td>2020-10-01</td>\n",
       "    </tr>\n",
       "    <tr>\n",
       "      <th>88</th>\n",
       "      <td>5.125</td>\n",
       "      <td>5.121</td>\n",
       "      <td>0.004</td>\n",
       "      <td>2021-01-01</td>\n",
       "    </tr>\n",
       "    <tr>\n",
       "      <th>89</th>\n",
       "      <td>5.145</td>\n",
       "      <td>5.138</td>\n",
       "      <td>0.007</td>\n",
       "      <td>2021-04-01</td>\n",
       "    </tr>\n",
       "    <tr>\n",
       "      <th>90</th>\n",
       "      <td>5.169</td>\n",
       "      <td>5.164</td>\n",
       "      <td>0.005</td>\n",
       "      <td>2021-07-01</td>\n",
       "    </tr>\n",
       "  </tbody>\n",
       "</table>\n",
       "<p>91 rows × 4 columns</p>\n",
       "</div>"
      ],
      "text/plain": [
       "   Total_Risk Borrower_Risk Product_Risk       DATE\n",
       "0      11.236         8.836        2.400 1999-01-01\n",
       "1      11.790         9.040        2.750 1999-04-01\n",
       "2      13.209         9.471        3.737 1999-07-01\n",
       "3      14.332        10.160        4.172 1999-10-01\n",
       "4      14.764        10.372        4.393 2000-01-01\n",
       "..        ...           ...          ...        ...\n",
       "86      4.989         4.986        0.003 2020-07-01\n",
       "87      5.082         5.078        0.003 2020-10-01\n",
       "88      5.125         5.121        0.004 2021-01-01\n",
       "89      5.145         5.138        0.007 2021-04-01\n",
       "90      5.169         5.164        0.005 2021-07-01\n",
       "\n",
       "[91 rows x 4 columns]"
      ]
     },
     "execution_count": 33,
     "metadata": {},
     "output_type": "execute_result"
    }
   ],
   "source": [
    "HCAI"
   ]
  },
  {
   "cell_type": "code",
   "execution_count": 34,
   "id": "397fe84c",
   "metadata": {},
   "outputs": [],
   "source": [
    "df_hpi_hcai=HPI_df.merge(HCAI, how='left')"
   ]
  },
  {
   "cell_type": "code",
   "execution_count": 35,
   "id": "0b72d3b2",
   "metadata": {},
   "outputs": [],
   "source": [
    "df_hpi_hcai.dropna(inplace=True)"
   ]
  },
  {
   "cell_type": "code",
   "execution_count": 36,
   "id": "e8f8f24d",
   "metadata": {},
   "outputs": [
    {
     "data": {
      "text/html": [
       "<div>\n",
       "<style scoped>\n",
       "    .dataframe tbody tr th:only-of-type {\n",
       "        vertical-align: middle;\n",
       "    }\n",
       "\n",
       "    .dataframe tbody tr th {\n",
       "        vertical-align: top;\n",
       "    }\n",
       "\n",
       "    .dataframe thead th {\n",
       "        text-align: right;\n",
       "    }\n",
       "</style>\n",
       "<table border=\"1\" class=\"dataframe\">\n",
       "  <thead>\n",
       "    <tr style=\"text-align: right;\">\n",
       "      <th></th>\n",
       "      <th>DATE</th>\n",
       "      <th>YoY</th>\n",
       "      <th>Implied_Turnover</th>\n",
       "      <th>YoY_MA_5</th>\n",
       "      <th>Total_Risk</th>\n",
       "      <th>Borrower_Risk</th>\n",
       "      <th>Product_Risk</th>\n",
       "    </tr>\n",
       "  </thead>\n",
       "  <tbody>\n",
       "    <tr>\n",
       "      <th>0</th>\n",
       "      <td>1999-01-01</td>\n",
       "      <td>5.93694</td>\n",
       "      <td>6.477936</td>\n",
       "      <td>5.049380</td>\n",
       "      <td>11.236</td>\n",
       "      <td>8.836</td>\n",
       "      <td>2.400</td>\n",
       "    </tr>\n",
       "    <tr>\n",
       "      <th>1</th>\n",
       "      <td>1999-04-01</td>\n",
       "      <td>6.02527</td>\n",
       "      <td>6.529750</td>\n",
       "      <td>5.471682</td>\n",
       "      <td>11.790</td>\n",
       "      <td>9.040</td>\n",
       "      <td>2.750</td>\n",
       "    </tr>\n",
       "    <tr>\n",
       "      <th>2</th>\n",
       "      <td>1999-07-01</td>\n",
       "      <td>6.29097</td>\n",
       "      <td>6.447134</td>\n",
       "      <td>5.824094</td>\n",
       "      <td>13.209</td>\n",
       "      <td>9.471</td>\n",
       "      <td>3.737</td>\n",
       "    </tr>\n",
       "    <tr>\n",
       "      <th>3</th>\n",
       "      <td>1999-10-01</td>\n",
       "      <td>6.14804</td>\n",
       "      <td>6.359195</td>\n",
       "      <td>6.021422</td>\n",
       "      <td>14.332</td>\n",
       "      <td>10.160</td>\n",
       "      <td>4.172</td>\n",
       "    </tr>\n",
       "    <tr>\n",
       "      <th>4</th>\n",
       "      <td>2000-01-01</td>\n",
       "      <td>6.46462</td>\n",
       "      <td>6.412796</td>\n",
       "      <td>6.173168</td>\n",
       "      <td>14.764</td>\n",
       "      <td>10.372</td>\n",
       "      <td>4.393</td>\n",
       "    </tr>\n",
       "    <tr>\n",
       "      <th>...</th>\n",
       "      <td>...</td>\n",
       "      <td>...</td>\n",
       "      <td>...</td>\n",
       "      <td>...</td>\n",
       "      <td>...</td>\n",
       "      <td>...</td>\n",
       "      <td>...</td>\n",
       "    </tr>\n",
       "    <tr>\n",
       "      <th>86</th>\n",
       "      <td>2020-07-01</td>\n",
       "      <td>8.25959</td>\n",
       "      <td>6.377489</td>\n",
       "      <td>6.156220</td>\n",
       "      <td>4.989</td>\n",
       "      <td>4.986</td>\n",
       "      <td>0.003</td>\n",
       "    </tr>\n",
       "    <tr>\n",
       "      <th>87</th>\n",
       "      <td>2020-10-01</td>\n",
       "      <td>11.17118</td>\n",
       "      <td>6.925938</td>\n",
       "      <td>7.391096</td>\n",
       "      <td>5.082</td>\n",
       "      <td>5.078</td>\n",
       "      <td>0.003</td>\n",
       "    </tr>\n",
       "    <tr>\n",
       "      <th>88</th>\n",
       "      <td>2021-01-01</td>\n",
       "      <td>13.08681</td>\n",
       "      <td>6.684530</td>\n",
       "      <td>8.903530</td>\n",
       "      <td>5.125</td>\n",
       "      <td>5.121</td>\n",
       "      <td>0.004</td>\n",
       "    </tr>\n",
       "    <tr>\n",
       "      <th>89</th>\n",
       "      <td>2021-04-01</td>\n",
       "      <td>17.81826</td>\n",
       "      <td>6.321918</td>\n",
       "      <td>11.219404</td>\n",
       "      <td>5.145</td>\n",
       "      <td>5.138</td>\n",
       "      <td>0.007</td>\n",
       "    </tr>\n",
       "    <tr>\n",
       "      <th>90</th>\n",
       "      <td>2021-07-01</td>\n",
       "      <td>18.60512</td>\n",
       "      <td>6.440745</td>\n",
       "      <td>13.788192</td>\n",
       "      <td>5.169</td>\n",
       "      <td>5.164</td>\n",
       "      <td>0.005</td>\n",
       "    </tr>\n",
       "  </tbody>\n",
       "</table>\n",
       "<p>91 rows × 7 columns</p>\n",
       "</div>"
      ],
      "text/plain": [
       "         DATE       YoY  Implied_Turnover   YoY_MA_5 Total_Risk Borrower_Risk  \\\n",
       "0  1999-01-01   5.93694          6.477936   5.049380     11.236         8.836   \n",
       "1  1999-04-01   6.02527          6.529750   5.471682     11.790         9.040   \n",
       "2  1999-07-01   6.29097          6.447134   5.824094     13.209         9.471   \n",
       "3  1999-10-01   6.14804          6.359195   6.021422     14.332        10.160   \n",
       "4  2000-01-01   6.46462          6.412796   6.173168     14.764        10.372   \n",
       "..        ...       ...               ...        ...        ...           ...   \n",
       "86 2020-07-01   8.25959          6.377489   6.156220      4.989         4.986   \n",
       "87 2020-10-01  11.17118          6.925938   7.391096      5.082         5.078   \n",
       "88 2021-01-01  13.08681          6.684530   8.903530      5.125         5.121   \n",
       "89 2021-04-01  17.81826          6.321918  11.219404      5.145         5.138   \n",
       "90 2021-07-01  18.60512          6.440745  13.788192      5.169         5.164   \n",
       "\n",
       "   Product_Risk  \n",
       "0         2.400  \n",
       "1         2.750  \n",
       "2         3.737  \n",
       "3         4.172  \n",
       "4         4.393  \n",
       "..          ...  \n",
       "86        0.003  \n",
       "87        0.003  \n",
       "88        0.004  \n",
       "89        0.007  \n",
       "90        0.005  \n",
       "\n",
       "[91 rows x 7 columns]"
      ]
     },
     "execution_count": 36,
     "metadata": {},
     "output_type": "execute_result"
    }
   ],
   "source": [
    "df_hpi_hcai"
   ]
  },
  {
   "cell_type": "code",
   "execution_count": 37,
   "id": "4bcf437d",
   "metadata": {},
   "outputs": [
    {
     "data": {
      "text/plain": [
       "Index(['DATE', 'YoY', 'Implied_Turnover', 'YoY_MA_5', 'Total_Risk',\n",
       "       'Borrower_Risk', 'Product_Risk'],\n",
       "      dtype='object')"
      ]
     },
     "execution_count": 37,
     "metadata": {},
     "output_type": "execute_result"
    }
   ],
   "source": [
    "df_hpi_hcai.columns"
   ]
  },
  {
   "cell_type": "code",
   "execution_count": 38,
   "id": "6885369c",
   "metadata": {},
   "outputs": [],
   "source": [
    "features = ['YoY_MA_5', 'Total_Risk']"
   ]
  },
  {
   "cell_type": "code",
   "execution_count": 39,
   "id": "d53a34cb",
   "metadata": {},
   "outputs": [],
   "source": [
    "size=int(df_hpi_hcai.shape[0]*0.8)"
   ]
  },
  {
   "cell_type": "code",
   "execution_count": 40,
   "id": "b276451a",
   "metadata": {},
   "outputs": [],
   "source": [
    "train1, test1 = df_hpi_hcai.iloc[:size,:], df_hpi_hcai.iloc[size:,:]"
   ]
  },
  {
   "cell_type": "code",
   "execution_count": 41,
   "id": "000d2e68",
   "metadata": {},
   "outputs": [],
   "source": [
    "X1_train, y1_train = train1[features], train1['Implied_Turnover']\n",
    "X1_test, y1_test = test1[features], test1['Implied_Turnover']"
   ]
  },
  {
   "cell_type": "code",
   "execution_count": 42,
   "id": "8ba2ca78",
   "metadata": {},
   "outputs": [],
   "source": [
    "# Fit and predict\n",
    "model1 = LinearRegression()  \n",
    "model1.fit(X1_train, y1_train)\n",
    "y1_pred = model1.predict(X1_train)\n",
    "y1_fore = model1.predict(X1_test)"
   ]
  },
  {
   "cell_type": "code",
   "execution_count": 43,
   "id": "e436e494",
   "metadata": {},
   "outputs": [
    {
     "data": {
      "image/png": "[encoded data removed]",
      "text/plain": [
       "<Figure size 720x504 with 1 Axes>"
      ]
     },
     "metadata": {
      "needs_background": "light"
     },
     "output_type": "display_data"
    }
   ],
   "source": [
    "plt.figure(figsize=(10,7))\n",
    "plt.plot(df_hpi_hcai.DATE, df_hpi_hcai.Implied_Turnover.values, label = \"Implied turnover\")\n",
    "plt.plot(train1.DATE, y1_pred, label = \"Fitted implied turnover\")\n",
    "plt.plot(test1.DATE, y1_fore, label = \"Predicted implied turnover\")\n",
    "plt.legend(fontsize = 15)\n",
    "plt.title(\"Moving average of yearly change in HPI (%) v.s. Implied Turnover\", size = 20);"
   ]
  },
  {
   "cell_type": "code",
   "execution_count": 44,
   "id": "3044e0fe",
   "metadata": {},
   "outputs": [],
   "source": [
    "mae1 = mean_absolute_error(y1_test, y1_fore)\n",
    "mse1 = mean_squared_error(y1_test, y1_fore)\n",
    "rmse1 = np.sqrt(mse1)"
   ]
  },
  {
   "cell_type": "code",
   "execution_count": 45,
   "id": "7cc9babe",
   "metadata": {},
   "outputs": [
    {
     "name": "stdout",
     "output_type": "stream",
     "text": [
      "Mean absolute error: 0.28253\n",
      "Mean squared error: 0.17465\n",
      "Root mean squared error: 0.41791\n"
     ]
    }
   ],
   "source": [
    "print(f'Mean absolute error: {mae1:.5f}')\n",
    "print(f'Mean squared error: {mse1:.5f}')\n",
    "print(f'Root mean squared error: {rmse1:.5f}')"
   ]
  },
  {
   "cell_type": "code",
   "execution_count": null,
   "id": "bd086911",
   "metadata": {},
   "outputs": [],
   "source": []
  }
 ],
 "metadata": {
  "kernelspec": {
   "display_name": "Python 3",
   "language": "python",
   "name": "python3"
  },
  "language_info": {
   "codemirror_mode": {
    "name": "ipython",
    "version": 3
   },
   "file_extension": ".py",
   "mimetype": "text/x-python",
   "name": "python",
   "nbconvert_exporter": "python",
   "pygments_lexer": "ipython3",
   "version": "3.8.8"
  }
 },
 "nbformat": 4,
 "nbformat_minor": 5
}
